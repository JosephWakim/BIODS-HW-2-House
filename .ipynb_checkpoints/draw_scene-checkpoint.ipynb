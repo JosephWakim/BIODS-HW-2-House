{
 "cells": [
  {
   "cell_type": "markdown",
   "metadata": {},
   "source": [
    "# Draw House Scene"
   ]
  },
  {
   "cell_type": "code",
   "execution_count": 1,
   "metadata": {},
   "outputs": [],
   "source": [
    "import turtle as t\n",
    "from typing import Tuple\n",
    "\n",
    "import src.doors as doors\n",
    "import src.windows as windows\n",
    "import src.turtle_tree_cloud as tree_cloud"
   ]
  },
  {
   "cell_type": "markdown",
   "metadata": {},
   "source": [
    "### Create Frame of House"
   ]
  },
  {
   "cell_type": "code",
   "execution_count": 2,
   "metadata": {},
   "outputs": [],
   "source": [
    "screen_dim = 500\n",
    "t.Screen().screensize(screen_dim, screen_dim)\n",
    "t.setworldcoordinates(-screen_dim, -screen_dim, t.window_width()+screen_dim, t.window_height()+screen_dim)\n",
    "t.Screen().bgcolor(\"lightblue\")"
   ]
  },
  {
   "cell_type": "code",
   "execution_count": 3,
   "metadata": {},
   "outputs": [],
   "source": [
    "def create_scene(start_coord: Tuple[float, float] = (screen_dim/3, screen_dim/3)):\n",
    "    \"\"\"Create scene of house that includes two garages, one door, and four windows, two trees, and a cloud.\n",
    "    \n",
    "    Parameters\n",
    "    ----------\n",
    "    start_coord : Tuple[float, float]\n",
    "        Bottom-left corner of the BASE of the house.\n",
    "    \"\"\"\n",
    "    \n",
    "    # Define dimensions\n",
    "    house_width = 800\n",
    "    house_height = 300\n",
    "    roof_width = 850\n",
    "    roof_angled_dim = roof_width / 2**0.5\n",
    "    roof_bottom_left = (start_coord[0]-25, start_coord[1]+house_height)\n",
    "    \n",
    "    def draw_base():\n",
    "        \"\"\"Draw the base of the house.\n",
    "        \"\"\"\n",
    "        t.color('black',\"lightgray\")\n",
    "        t.begin_fill()\n",
    "        doors.draw_rectangle(start_coord[0], start_coord[1], house_height, house_width)\n",
    "        t.end_fill()\n",
    "    \n",
    "    def draw_roof():\n",
    "        \"\"\"Draw the roof of the house.\n",
    "        \"\"\"\n",
    "        t.color('black',\"brown\")\n",
    "        t.setpos(roof_bottom_left)\n",
    "        t.begin_fill()\n",
    "        t.setheading(0)\n",
    "        t.forward(roof_width)\n",
    "        t.left(135)\n",
    "        t.forward(roof_angled_dim)\n",
    "        t.left(90)\n",
    "        t.forward(roof_angled_dim)\n",
    "        t.end_fill()\n",
    "        \n",
    "    # Draw lawn\n",
    "    t.color('green')\n",
    "    t.begin_fill()\n",
    "    doors.draw_rectangle(start_coord[0]-700, start_coord[1]-700, 700, 2000)\n",
    "    t.end_fill()\n",
    "    \n",
    "    # Draw the frame of the house\n",
    "    draw_base()\n",
    "    draw_roof()\n",
    "    \n",
    "    # Draw a door\n",
    "    doors.draw_door(start_coord[0] + 75, start_coord[1], house_height/3)\n",
    "    \n",
    "    # Draw two garage doors\n",
    "    doors.draw_garage_door(start_coord[0] + 300, start_coord[1], house_height*1/2, 4, scale=1.1)\n",
    "    doors.draw_garage_door(start_coord[0] + 500, start_coord[1], house_height*1/2, 4, scale=1.1)\n",
    "    \n",
    "    # Draw windows\n",
    "    windows.draw_window((start_coord[0] + 150, start_coord[1] + 100), 50, 50)\n",
    "    windows.draw_window((start_coord[0] + 150, start_coord[1] + house_height*3/4), 50, 50)\n",
    "    windows.draw_window((start_coord[0] + 350, start_coord[1] + house_height*3/4), 50, 50)\n",
    "    windows.draw_window((start_coord[0] + 500, start_coord[1] + house_height*3/4), 50, 50)\n",
    "    t.end_fill()\n",
    "    \n",
    "    # Draw trees\n",
    "    t.setheading(0)\n",
    "    tree_cloud.draw_tree(start_coord[0]-150, start_coord[1]+80, house_height/5)\n",
    "    tree_cloud.draw_tree(start_coord[0]-450, start_coord[1]+100, house_height/5)\n",
    "    \n",
    "    # Draw cloud\n",
    "    tree_cloud.draw_cloud(start_coord[0] -300, start_coord[1] + 500, 70, color=\"white\")\n",
    "\n",
    "create_scene()"
   ]
  },
  {
   "cell_type": "markdown",
   "metadata": {},
   "source": [
    "### To add to the module.\n",
    "\n",
    "if __name__ == \"__main__\":\n",
    "    \"\"\"Create the house scene.\n",
    "    \"\"\"\n",
    "    create_scene()"
   ]
  },
  {
   "cell_type": "code",
   "execution_count": null,
   "metadata": {},
   "outputs": [],
   "source": []
  }
 ],
 "metadata": {
  "kernelspec": {
   "display_name": "Python 3 (ipykernel)",
   "language": "python",
   "name": "python3"
  },
  "language_info": {
   "codemirror_mode": {
    "name": "ipython",
    "version": 3
   },
   "file_extension": ".py",
   "mimetype": "text/x-python",
   "name": "python",
   "nbconvert_exporter": "python",
   "pygments_lexer": "ipython3",
   "version": "3.7.11"
  }
 },
 "nbformat": 4,
 "nbformat_minor": 2
}
